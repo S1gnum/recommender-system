{
 "cells": [
  {
   "cell_type": "code",
   "execution_count": 44,
   "id": "1167b754",
   "metadata": {},
   "outputs": [
    {
     "data": {
      "image/png": "[encoded data removed]",
      "text/plain": [
       "<Figure size 1440x360 with 1 Axes>"
      ]
     },
     "metadata": {
      "needs_background": "light"
     },
     "output_type": "display_data"
    }
   ],
   "source": [
    "import pandas as pd\n",
    "import ast\n",
    "from sklearn.feature_extraction.text import CountVectorizer\n",
    "from sklearn.feature_extraction.text import TfidfVectorizer\n",
    "from sklearn.metrics.pairwise import cosine_similarity\n",
    "import seaborn as sns\n",
    "import numpy as np\n",
    "import matplotlib.pyplot as plt\n",
    "\n",
    "df_titles = pd.read_csv('titles.csv', low_memory=False)\n",
    "\n",
    "# Предварительная обработка данных.\n",
    "\n",
    "# Удаление фильмов, набравшие мало голосов в IMDB.\n",
    "\n",
    "df_titles = df_titles[df_titles['imdb_votes'].notna()]\n",
    "plt.figure(figsize=(20,5))\n",
    "sns.histplot(df_titles['imdb_votes'])\n",
    "plt.title(\"Гистограмма количеств голосов в IMDB\")\n",
    "\n",
    "# Определение мин. кол-ва голосов, которое должен иметь фильм или сериал, чтоб быть включенным.\n",
    "\n",
    "min_votes = 100000\n",
    "\n",
    "# Исключение фильмов, не набравшие мин. кол-во голосов\n",
    "\n",
    "df = df_titles.copy(deep=True).loc[df_titles['imdb_votes'] > min_votes]\n",
    "\n",
    "# Удаление строк с отсутствующим описанием\n",
    "\n",
    "df = df[df['description'].notna()]\n",
    "df.reset_index(inplace=True)\n",
    "\n",
    "# Обработка текста\n",
    "\n",
    "def process_text(text):\n",
    "    \n",
    "    # Замена несколько пробелов одним\n",
    "    text = ' '.join(text.split())\n",
    "    \n",
    "    # Удаление знаков препинания и др. знаков\n",
    "    marks = '''!()-[]{};?@#$%:'\"\\,./^&amp;*_'''\n",
    " \n",
    "    for symbol in text:  \n",
    "        if symbol in marks:  \n",
    "            text = text.replace(symbol, \"\") \n",
    "    \n",
    "    # Изменение текста на нижний регистр\n",
    "    text = text.lower()\n",
    "    \n",
    "    return text\n",
    "\n",
    "# Обработка id\n",
    "\n",
    "def proccess_title_id(title_id):\n",
    "    return int(title_id[2:])\n",
    "\n",
    "df['description'] = df.apply(lambda title: process_text(title.description),axis=1)\n",
    "df['id'] = df.apply(lambda title: process_text(title.id), axis=1)\n",
    "\n",
    "# Подгонка TfidfVectorizer к тренировочному набору данных описаний тайтлов\n",
    "tf_idf = TfidfVectorizer(stop_words='english')\n",
    "# Преобразование tf_idf в числовое представление TF_IDF\n",
    "tf_idf_matrix = tf_idf.fit_transform(df['description']);\n",
    "\n",
    "cosine_similarity_matrix = cosine_similarity(tf_idf_matrix, tf_idf_matrix)\n",
    "\n",
    "# функция id_from_title, которая возвращает id по названию тайтла\n",
    "def id_from_title(df, title):\n",
    "    return df[df['title']==title].id.values[0]\n",
    "\n",
    "# функция title_from_id, которая возвращает название тайтла по id\n",
    "def title_from_id(df, title_id):\n",
    "    return df[df.id==title_id].title.values[0]\n",
    "\n",
    "# Генерация рекомендаций для данного тайтла\n",
    "def recommendations(title, df, cosine_similarity_matrix, number_of_recommendations):\n",
    "\n",
    "    title_id = index_from_title(df, title)\n",
    "    similarity_scores = list(enumerate(cosine_similarity_matrix[title_id]))\n",
    "    similarity_scores_sorted = sorted(similarity_scores, key=lambda x: x[1], reverse=True)\n",
    "\n",
    "    recommendations_indices = [t[0] for t in similarity_scores_sorted[1:(number_of_recommendations+1)]]\n",
    "\n",
    "    return df['title'].iloc[recommendations_indices]"
   ]
  },
  {
   "cell_type": "code",
   "execution_count": 55,
   "id": "9d9f5211",
   "metadata": {},
   "outputs": [
    {
     "ename": "TypeError",
     "evalue": "'numpy.ndarray' object is not callable",
     "output_type": "error",
     "traceback": [
      "\u001b[0;31m---------------------------------------------------------------------------\u001b[0m",
      "\u001b[0;31mTypeError\u001b[0m                                 Traceback (most recent call last)",
      "Input \u001b[0;32mIn [55]\u001b[0m, in \u001b[0;36m<cell line: 1>\u001b[0;34m()\u001b[0m\n\u001b[0;32m----> 1\u001b[0m \u001b[43mcosine_similarity_matrix\u001b[49m\u001b[43m(\u001b[49m\u001b[38;5;124;43m'\u001b[39;49m\u001b[38;5;124;43mThe Exorcist\u001b[39;49m\u001b[38;5;124;43m'\u001b[39;49m\u001b[43m)\u001b[49m\n",
      "\u001b[0;31mTypeError\u001b[0m: 'numpy.ndarray' object is not callable"
     ]
    }
   ],
   "source": []
  },
  {
   "cell_type": "code",
   "execution_count": 57,
   "id": "220ec8a1",
   "metadata": {},
   "outputs": [
    {
     "name": "stdout",
     "output_type": "stream",
     "text": [
      "190788\n",
      "[0.01505356 0.00242355 0.01022466 0.01698447 0.05622538 0.0088305\n",
      " 0.00930375 0.02752144 0.00459677 0.00505871 0.02837732 0.01213969\n",
      " 0.02470637 0.0029701  0.02738202 0.02595769 0.00332085 0.02935103\n",
      " 0.00788386 0.03398004 0.00578078 0.00470701 0.         0.01017927\n",
      " 0.01078741 0.00579411 0.01504773 0.00801323 0.01498132 0.03189426\n",
      " 0.02586623 0.02174087 0.02811571 0.00614281 0.01154428 0.01265029\n",
      " 0.01725352 0.         0.00508416 0.01587485 0.00396817 0.01184695\n",
      " 0.0120517  0.03676173 0.00505338 0.00977914 0.00606619 0.0799859\n",
      " 0.02908446 0.         0.01640984 0.00883845 0.04368034 0.01946022\n",
      " 0.00549439 0.01346329 0.00499846 0.         0.00914049 0.01887668\n",
      " 0.00517961 0.03351576 0.01457721 0.00537966 0.0050187  0.\n",
      " 0.0481742  0.02275633 0.01424472 0.01223732 0.02882633 0.01410549\n",
      " 0.01151116 0.0226233  0.03108192 0.00449812 0.         0.03265587\n",
      " 0.00541812 0.01438248 0.02501167 0.03229138 0.02670048 0.\n",
      " 0.         0.01023134 0.01465672 0.00798693 0.         0.01666885\n",
      " 0.0232689  0.00391064 0.         0.00490912 0.0052568  0.0077089\n",
      " 0.02073818 0.00630581 0.         0.00772279 1.         0.00614163\n",
      " 0.00737917 0.00843942 0.0060757  0.01220802 0.0058669  0.\n",
      " 0.00722049 0.         0.02533022 0.00765342 0.         0.01456248\n",
      " 0.00512939 0.02855717 0.         0.         0.00379859 0.02809469\n",
      " 0.0111273  0.01550493 0.00780627 0.00736197 0.00520892 0.06400593\n",
      " 0.01773135 0.01841617 0.01026585 0.01540284 0.         0.01767371\n",
      " 0.00272209 0.01146572 0.03737714 0.02826027 0.16487658 0.01749522\n",
      " 0.00791499 0.         0.00585392 0.         0.         0.00722609\n",
      " 0.00637704 0.         0.00433839 0.0029878  0.01624015 0.02178316\n",
      " 0.01589195 0.0092042  0.01556641 0.0232037  0.0472639  0.00391129\n",
      " 0.         0.01106793 0.         0.01757564 0.01084809 0.00572668\n",
      " 0.01490139 0.04042932 0.02025495 0.00823894 0.0085251  0.02539029\n",
      " 0.05644365 0.01865182 0.02965189 0.0044175  0.01200813 0.02016383\n",
      " 0.00717212 0.01320082 0.02317419 0.0128544  0.00473056 0.01539572\n",
      " 0.01598673 0.00444598 0.02402099 0.00395577 0.01108477 0.00623295\n",
      " 0.00606159 0.00543067 0.01633857 0.04584459 0.00545318 0.00894497\n",
      " 0.03541169 0.02024626 0.0049672  0.01769322 0.05565405 0.07409685\n",
      " 0.05316202 0.01956014 0.06192871 0.01999688 0.00568719 0.01330445\n",
      " 0.0228302  0.00315958 0.00527338 0.         0.00505149 0.\n",
      " 0.01050362 0.06837896 0.01196062 0.01522049 0.01462053 0.00657361\n",
      " 0.         0.         0.00418236 0.03190844 0.         0.01666925\n",
      " 0.0325381  0.         0.01337902 0.05339206 0.03242412 0.0080907\n",
      " 0.         0.01562867 0.0410701  0.00821957 0.01576368 0.008323\n",
      " 0.00966542 0.00828773 0.00491102 0.00392154 0.00493117 0.02094025\n",
      " 0.         0.         0.00840524 0.         0.01528133 0.01604028\n",
      " 0.01599032 0.         0.00321758 0.         0.02224304 0.\n",
      " 0.00489005 0.         0.00467072 0.00446293 0.00493471 0.02056046\n",
      " 0.02351364 0.00879439 0.07393556 0.         0.02462804 0.01928035\n",
      " 0.00563477 0.         0.03637835 0.07244744 0.         0.\n",
      " 0.01803719 0.         0.01121954 0.00467648 0.01721748 0.\n",
      " 0.01437037 0.         0.         0.00554534 0.         0.\n",
      " 0.00386238 0.00492793 0.         0.01423032 0.         0.01950185\n",
      " 0.0105354  0.00575385 0.         0.02024047 0.00954867 0.02508794\n",
      " 0.00799442 0.         0.00514179 0.00878517 0.         0.03385752\n",
      " 0.         0.        ]\n"
     ]
    }
   ],
   "source": [
    "id123 = 'tm190788'\n",
    "print(int(id123[2:]))\n",
    "print(cosine_similarity_matrix[100])\n"
   ]
  },
  {
   "cell_type": "code",
   "execution_count": null,
   "id": "4b263163",
   "metadata": {},
   "outputs": [],
   "source": []
  }
 ],
 "metadata": {
  "kernelspec": {
   "display_name": "Python 3 (ipykernel)",
   "language": "python",
   "name": "python3"
  },
  "language_info": {
   "codemirror_mode": {
    "name": "ipython",
    "version": 3
   },
   "file_extension": ".py",
   "mimetype": "text/x-python",
   "name": "python",
   "nbconvert_exporter": "python",
   "pygments_lexer": "ipython3",
   "version": "3.9.12"
  }
 },
 "nbformat": 4,
 "nbformat_minor": 5
}
